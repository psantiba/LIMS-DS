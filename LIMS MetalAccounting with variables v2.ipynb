{
 "cells": [
  {
   "cell_type": "code",
   "execution_count": 1,
   "id": "446cc7c8",
   "metadata": {},
   "outputs": [
    {
     "name": "stdout",
     "output_type": "stream",
     "text": [
      "Collecting tabulate\n",
      "  Downloading https://files.pythonhosted.org/packages/ca/80/7c0cad11bd99985cfe7c09427ee0b4f9bd6b048bd13d4ffb32c6db237dfb/tabulate-0.8.9-py3-none-any.whl\n",
      "Installing collected packages: tabulate\n",
      "Successfully installed tabulate-0.8.9\n",
      "Note: you may need to restart the kernel to use updated packages.\n"
     ]
    }
   ],
   "source": [
    "pip install tabulate"
   ]
  },
  {
   "cell_type": "code",
   "execution_count": 44,
   "id": "1b83becd",
   "metadata": {},
   "outputs": [],
   "source": [
    "import numpy as np\n",
    "import pandas as pd\n",
    "import matplotlib.pyplot as plt"
   ]
  },
  {
   "cell_type": "code",
   "execution_count": 45,
   "id": "b2c2303b",
   "metadata": {},
   "outputs": [],
   "source": [
    "from tabulate import tabulate "
   ]
  },
  {
   "cell_type": "code",
   "execution_count": 52,
   "id": "965870ad",
   "metadata": {},
   "outputs": [],
   "source": [
    "ton=10273\n",
    "table = [['Stream','TMH','% Wt','%Cu', '%Pb', '%Zn'],\n",
    "         ['Plant Feed',10273,100,0.290,1.700, 13.560],\n",
    "         ['Copper Concentrate','---','---',14.56,8.83,12.73],\n",
    "        ['Pb Concentrate','---','---',0.66,60.88,10.24],\n",
    "       ['Zn Concentrate','---','---',0.68,0.45,56.77],\n",
    "        ['Tails','---','---',0.07,0.25,0.63],\n",
    "        ['Totals','---','---','','','']]\n",
    "        \n"
   ]
  },
  {
   "cell_type": "code",
   "execution_count": 53,
   "id": "3a4778b0",
   "metadata": {},
   "outputs": [
    {
     "name": "stdout",
     "output_type": "stream",
     "text": [
      "+--------------------+-------+--------+-------+-------+-------+\n",
      "| Stream             | TMH   | % Wt   | %Cu   | %Pb   | %Zn   |\n",
      "+====================+=======+========+=======+=======+=======+\n",
      "| Plant Feed         | 10273 | 100    | 0.29  | 1.7   | 13.56 |\n",
      "+--------------------+-------+--------+-------+-------+-------+\n",
      "| Copper Concentrate | ---   | ---    | 14.56 | 8.83  | 12.73 |\n",
      "+--------------------+-------+--------+-------+-------+-------+\n",
      "| Pb Concentrate     | ---   | ---    | 0.66  | 60.88 | 10.24 |\n",
      "+--------------------+-------+--------+-------+-------+-------+\n",
      "| Zn Concentrate     | ---   | ---    | 0.68  | 0.45  | 56.77 |\n",
      "+--------------------+-------+--------+-------+-------+-------+\n",
      "| Tails              | ---   | ---    | 0.07  | 0.25  | 0.63  |\n",
      "+--------------------+-------+--------+-------+-------+-------+\n",
      "| Totals             | ---   | ---    |       |       |       |\n",
      "+--------------------+-------+--------+-------+-------+-------+\n"
     ]
    }
   ],
   "source": [
    "print (tabulate(table,headers='firstrow', tablefmt='grid'))"
   ]
  },
  {
   "cell_type": "code",
   "execution_count": 6,
   "id": "4578c927",
   "metadata": {},
   "outputs": [],
   "source": [
    "M = ([1,1,1,1],[14.56,0.66,0.68,0.07],[8.83,60.88,0.45,0.25],[12.73,10.24,56.77,0.63])"
   ]
  },
  {
   "cell_type": "code",
   "execution_count": 7,
   "id": "05c7e491",
   "metadata": {},
   "outputs": [
    {
     "name": "stdout",
     "output_type": "stream",
     "text": [
      "-----  -----  -----  ----\n",
      " 1      1      1     1\n",
      "14.56   0.66   0.68  0.07\n",
      " 8.83  60.88   0.45  0.25\n",
      "12.73  10.24  56.77  0.63\n",
      "-----  -----  -----  ----\n"
     ]
    }
   ],
   "source": [
    "print (tabulate(M))"
   ]
  },
  {
   "cell_type": "code",
   "execution_count": 8,
   "id": "0bad4a61",
   "metadata": {},
   "outputs": [],
   "source": [
    "c=np.array([1,0.29,1.7,13.56])"
   ]
  },
  {
   "cell_type": "code",
   "execution_count": 9,
   "id": "76b5264a",
   "metadata": {},
   "outputs": [
    {
     "name": "stdout",
     "output_type": "stream",
     "text": [
      "[ 1.    0.29  1.7  13.56]\n"
     ]
    }
   ],
   "source": [
    "print(c)"
   ]
  },
  {
   "cell_type": "code",
   "execution_count": 10,
   "id": "f751b3ec",
   "metadata": {},
   "outputs": [],
   "source": [
    "y=np.linalg.solve(M,c)"
   ]
  },
  {
   "cell_type": "code",
   "execution_count": 11,
   "id": "2a8e7be6",
   "metadata": {},
   "outputs": [
    {
     "name": "stdout",
     "output_type": "stream",
     "text": [
      "[0.00477646 0.02249597 0.22543674 0.74729083]\n"
     ]
    }
   ],
   "source": [
    "print(y)"
   ]
  },
  {
   "cell_type": "code",
   "execution_count": 24,
   "id": "696ff353",
   "metadata": {},
   "outputs": [
    {
     "name": "stdout",
     "output_type": "stream",
     "text": [
      "TMS CCu= [49.06861773]\n",
      "TMS CPb [231.10108752]\n",
      "TMS CZn [2315.91161871]\n",
      "TMS Rel [7676.91867604]\n",
      "[100.]\n",
      "[10273.]\n"
     ]
    }
   ],
   "source": [
    "TMSCCu = ton*y[0:1]\n",
    "TMSCPb = ton*y[1:2]\n",
    "TMSCZn = ton*y[2:3]\n",
    "TMSRel = ton*y[3:4]\n",
    "\n",
    "print('TMS CCu=',TMSCCu)\n",
    "print('TMS CPb',TMSCPb)\n",
    "print('TMS CZn',TMSCZn)\n",
    "print('TMS Rel',TMSRel)\n",
    "\n",
    "pTMSCCu = ton*y[0:1]/ton*100\n",
    "pTMSCPb = ton*y[1:2]/ton*100\n",
    "pTMSCZn = ton*y[2:3]/ton*100\n",
    "pTMSRel = ton*y[3:4]/ton*100\n",
    "\n",
    "total=[pTMSCCu,pTMSCPb,pTMSCZn,pTMSRel]\n",
    "tTMS=[TMSCCu,TMSCPb,TMSCZn,TMSRel]\n",
    "total=sum(total)\n",
    "print(total)\n",
    "print(sum(tTMS))\n"
   ]
  },
  {
   "cell_type": "code",
   "execution_count": 13,
   "id": "6758a613",
   "metadata": {},
   "outputs": [
    {
     "name": "stdout",
     "output_type": "stream",
     "text": [
      "-----  -----  -----  ----\n",
      " 1      1      1     1\n",
      "14.56   0.66   0.68  0.07\n",
      " 8.83  60.88   0.45  0.25\n",
      "12.73  10.24  56.77  0.63\n",
      "-----  -----  -----  ----\n"
     ]
    }
   ],
   "source": [
    "print (tabulate(M))"
   ]
  },
  {
   "cell_type": "code",
   "execution_count": 54,
   "id": "1da4269e",
   "metadata": {},
   "outputs": [],
   "source": [
    "#Cálculo de Balance 4 productos\n",
    "balanceM = [['Stream','TMH','% Wt','%Cu', '%Pb', '%Zn'],\n",
    "         ['Plant Feed',10273,100,0.290,1.700, 13.560],\n",
    "         ['Copper Concentrate',TMSCCu,TMSCCu/10273*100,14.56,8.83,12.73],\n",
    "        ['Pb Concentrate',TMSCPb,TMSCPb/10273*100,0.66,60.88,10.24],\n",
    "       ['Zn Concentrate',TMSCZn,TMSCZn/10273*100,0.68,0.45,56.77],\n",
    "        ['Tails',TMSRel,TMSRel/10273*100,0.07,0.25,0.63],\n",
    "        ['Totals',sum(tTMS),total,'','','']]"
   ]
  },
  {
   "cell_type": "code",
   "execution_count": 55,
   "id": "155c4a4d",
   "metadata": {},
   "outputs": [
    {
     "name": "stdout",
     "output_type": "stream",
     "text": [
      "+--------------------+------------+------------+-------+-------+-------+\n",
      "| Stream             |        TMH |       % Wt | %Cu   | %Pb   | %Zn   |\n",
      "+====================+============+============+=======+=======+=======+\n",
      "| Plant Feed         | 10273      | 100        | 0.29  | 1.7   | 13.56 |\n",
      "+--------------------+------------+------------+-------+-------+-------+\n",
      "| Copper Concentrate |    49.0686 |   0.477646 | 14.56 | 8.83  | 12.73 |\n",
      "+--------------------+------------+------------+-------+-------+-------+\n",
      "| Pb Concentrate     |   231.101  |   2.2496   | 0.66  | 60.88 | 10.24 |\n",
      "+--------------------+------------+------------+-------+-------+-------+\n",
      "| Zn Concentrate     |  2315.91   |  22.5437   | 0.68  | 0.45  | 56.77 |\n",
      "+--------------------+------------+------------+-------+-------+-------+\n",
      "| Tails              |  7676.92   |  74.7291   | 0.07  | 0.25  | 0.63  |\n",
      "+--------------------+------------+------------+-------+-------+-------+\n",
      "| Totals             | 10273      | 100        |       |       |       |\n",
      "+--------------------+------------+------------+-------+-------+-------+\n"
     ]
    }
   ],
   "source": [
    "print (tabulate(balanceM,headers='firstrow', tablefmt='grid'))"
   ]
  },
  {
   "cell_type": "code",
   "execution_count": null,
   "id": "38c52fa9",
   "metadata": {},
   "outputs": [],
   "source": []
  }
 ],
 "metadata": {
  "kernelspec": {
   "display_name": "Python 3 (ipykernel)",
   "language": "python",
   "name": "python3"
  },
  "language_info": {
   "codemirror_mode": {
    "name": "ipython",
    "version": 3
   },
   "file_extension": ".py",
   "mimetype": "text/x-python",
   "name": "python",
   "nbconvert_exporter": "python",
   "pygments_lexer": "ipython3",
   "version": "3.9.7"
  }
 },
 "nbformat": 4,
 "nbformat_minor": 5
}
